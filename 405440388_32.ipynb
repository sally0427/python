{
 "cells": [
  {
   "cell_type": "code",
   "execution_count": 29,
   "metadata": {},
   "outputs": [
    {
     "name": "stdout",
     "output_type": "stream",
     "text": [
      "37.77777777777778\n"
     ]
    }
   ],
   "source": [
    "#1. \n",
    "def F2C(a):\n",
    "    c = 5 * (a - 32) / 9\n",
    "    print(c)\n",
    "    \n",
    "F2C(100)"
   ]
  },
  {
   "cell_type": "code",
   "execution_count": 4,
   "metadata": {},
   "outputs": [
    {
     "name": "stdout",
     "output_type": "stream",
     "text": [
      "22.857142857142858\n"
     ]
    }
   ],
   "source": [
    "#2.\n",
    "def  ComputeBMI(H,W):\n",
    "    BMI = W / (H /100) / (H /100)\n",
    "    print(BMI)\n",
    "\n",
    "ComputeBMI(175,70)"
   ]
  },
  {
   "cell_type": "code",
   "execution_count": 7,
   "metadata": {},
   "outputs": [
    {
     "name": "stdout",
     "output_type": "stream",
     "text": [
      "5050\n"
     ]
    }
   ],
   "source": [
    "#3.\n",
    "def Summation(n):\n",
    "    sum = 0\n",
    "    for i in range(1,n+1):\n",
    "        sum = sum + i\n",
    "    print(sum)\n",
    "    \n",
    "Summation(100)"
   ]
  },
  {
   "cell_type": "code",
   "execution_count": 11,
   "metadata": {},
   "outputs": [
    {
     "name": "stdout",
     "output_type": "stream",
     "text": [
      "最大值 :  99\n",
      "最小值 :  7\n",
      "平均值 :  50.1\n",
      "由大到小排序 :  [7, 13, 25, 35, 48, 50, 69, 71, 84, 99]\n"
     ]
    }
   ],
   "source": [
    "#4. \n",
    "import numpy\n",
    "numList = [35, 71, 25, 48, 50, 99, 84, 69, 13, 7]\n",
    "print(\"最大值 : \", max(numList))\n",
    "print(\"最小值 : \", min(numList))\n",
    "print(\"平均值 : \", numpy.mean(numList))\n",
    "print(\"由大到小排序 : \", sorted(numList))\n"
   ]
  },
  {
   "cell_type": "code",
   "execution_count": 25,
   "metadata": {},
   "outputs": [
    {
     "name": "stdout",
     "output_type": "stream",
     "text": [
      "字典（dict）方式表示: {'Apple': 30, 'Banana': 25, 'Orange': 20, 'PineApple': 40, 'pear': 50}\n",
      "蘋果（Apple）一斤30元，香蕉（Banana）一斤25元，橘子（Orange）一斤20元，鳳梨（PineApple）一斤40元，水梨（pear）一斤50元\n",
      "總共需: 5500 元\n"
     ]
    }
   ],
   "source": [
    "#5.\n",
    "dict = {'Apple': 30, 'Banana': 25, 'Orange': 20, 'PineApple': 40, 'pear': 50}\n",
    "print(\"字典（dict）方式表示:\" ,dict)\n",
    "print(\"蘋果（Apple）一斤30元，香蕉（Banana）一斤25元，橘子（Orange）一斤20元，鳳梨（PineApple）一斤40元，水梨（pear）一斤50元\")\n",
    "print(\"總共需:\" ,dict['Apple'] * 10 + dict['Banana'] * 20 + dict['Orange'] * 30 + dict['PineApple'] * 40 + dict['pear'] * 50,\"元\")"
   ]
  },
  {
   "cell_type": "code",
   "execution_count": null,
   "metadata": {},
   "outputs": [],
   "source": []
  }
 ],
 "metadata": {
  "kernelspec": {
   "display_name": "Python 3",
   "language": "python",
   "name": "python3"
  },
  "language_info": {
   "codemirror_mode": {
    "name": "ipython",
    "version": 3
   },
   "file_extension": ".py",
   "mimetype": "text/x-python",
   "name": "python",
   "nbconvert_exporter": "python",
   "pygments_lexer": "ipython3",
   "version": "3.6.7"
  }
 },
 "nbformat": 4,
 "nbformat_minor": 2
}
